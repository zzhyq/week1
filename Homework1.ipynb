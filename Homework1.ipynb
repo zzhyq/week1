{
 "cells": [
  {
   "cell_type": "code",
   "execution_count": 8,
   "metadata": {},
   "outputs": [
    {
     "name": "stdout",
     "output_type": "stream",
     "text": [
      "['apple', 'banana', 'orange', 'watermelon', 'mango']\n"
     ]
    }
   ],
   "source": [
    "fruit=[\"apple\",\"banana\",\"orange\",\"watermelon\",\"mango\"]\n",
    "print (fruit)"
   ]
  },
  {
   "cell_type": "code",
   "execution_count": 9,
   "metadata": {},
   "outputs": [
    {
     "name": "stdout",
     "output_type": "stream",
     "text": [
      "i found it!\n"
     ]
    }
   ],
   "source": [
    "for a in fruit :\n",
    "    if a==\"apple\":\n",
    "        print(\"i found it!\")"
   ]
  },
  {
   "cell_type": "code",
   "execution_count": 11,
   "metadata": {},
   "outputs": [
    {
     "name": "stdout",
     "output_type": "stream",
     "text": [
      "['apple', 'banana', 'orange', 'watermelon', 'mango', 'peach', 'grape', 'peach', 'grape']\n"
     ]
    }
   ],
   "source": [
    "fruit.append(\"peach\")\n",
    "fruit.append(\"grape\")\n",
    "print(fruit)"
   ]
  },
  {
   "cell_type": "code",
   "execution_count": 12,
   "metadata": {},
   "outputs": [
    {
     "name": "stdout",
     "output_type": "stream",
     "text": [
      "[5, 6, 6, 10, 5, 5, 5, 5, 5]\n"
     ]
    }
   ],
   "source": [
    "count=[]\n",
    "for n in range(len(fruit)):\n",
    "    n=len(fruit[n])\n",
    "    count.append(n)\n",
    "print (count)"
   ]
  },
  {
   "cell_type": "code",
   "execution_count": 22,
   "metadata": {},
   "outputs": [],
   "source": [
    "def half_squared (list):\n",
    "    newlist=[]\n",
    "    for a in list:\n",
    "        newlist.append(a*a/2)\n",
    "    \n",
    "    return (newlist)    "
   ]
  },
  {
   "cell_type": "code",
   "execution_count": 25,
   "metadata": {},
   "outputs": [
    {
     "name": "stdout",
     "output_type": "stream",
     "text": [
      "[2.0, 4.5, 8.0]\n"
     ]
    }
   ],
   "source": [
    "print(half_squared ([2,3,4]))"
   ]
  },
  {
   "cell_type": "code",
   "execution_count": 35,
   "metadata": {},
   "outputs": [
    {
     "name": "stdout",
     "output_type": "stream",
     "text": [
      "input score: 56\n",
      "C\n"
     ]
    }
   ],
   "source": [
    "score=int(input(\"input score: \"))\n",
    "if score >=0 and score <=100:\n",
    "    if score >=90: \n",
    "        print (\"A\")\n",
    "    elif score>60:\n",
    "        print (\"B\")\n",
    "    else:\n",
    "        print (\"C\")\n",
    "else:\n",
    "    print (\"wrong\")\n"
   ]
  },
  {
   "cell_type": "code",
   "execution_count": 36,
   "metadata": {},
   "outputs": [],
   "source": [
    "def reSort(a,b,c):\n",
    "   \n",
    "    if a<b:\n",
    "        a,b=b,a\n",
    "    if a<c:\n",
    "        a,c=c,a\n",
    "    if b<c:\n",
    "        b,c=c,b\n",
    "    return a,b,c    \n",
    "      "
   ]
  },
  {
   "cell_type": "code",
   "execution_count": 37,
   "metadata": {},
   "outputs": [
    {
     "data": {
      "text/plain": [
       "(32, 12, 4)"
      ]
     },
     "execution_count": 37,
     "metadata": {},
     "output_type": "execute_result"
    }
   ],
   "source": [
    "reSort(12,4,32)"
   ]
  },
  {
   "cell_type": "code",
   "execution_count": 40,
   "metadata": {},
   "outputs": [
    {
     "name": "stdout",
     "output_type": "stream",
     "text": [
      "1\n",
      "2\n",
      "3\n",
      "4\n",
      "5\n",
      "6\n"
     ]
    }
   ],
   "source": [
    "arrs=[[1,2,3],[4,5,6]]\n",
    "for m in arrs:\n",
    "    for n in m:\n",
    "        print (n)\n"
   ]
  },
  {
   "cell_type": "code",
   "execution_count": 44,
   "metadata": {},
   "outputs": [
    {
     "name": "stdout",
     "output_type": "stream",
     "text": [
      "1\n",
      "8\n",
      "17\n",
      "18\n",
      "26\n",
      "27\n"
     ]
    }
   ],
   "source": [
    "for m in range(1,100):\n",
    "    if m==sum(map(int,str(pow(m,3)))):\n",
    "        print(m)\n",
    "    \n",
    "    "
   ]
  },
  {
   "cell_type": "code",
   "execution_count": 46,
   "metadata": {},
   "outputs": [
    {
     "name": "stdout",
     "output_type": "stream",
     "text": [
      "6 3\n",
      "3 6\n"
     ]
    }
   ],
   "source": [
    "import random\n",
    "x =random.randint(1,10)\n",
    "y =random.randint(1,10)\n",
    "print(x,y)\n",
    "print(y,x)"
   ]
  },
  {
   "cell_type": "code",
   "execution_count": 47,
   "metadata": {},
   "outputs": [
    {
     "name": "stdout",
     "output_type": "stream",
     "text": [
      "   *\n",
      "  ***\n",
      " *****\n",
      "*******\n",
      " *****\n",
      "  ***\n",
      "   *\n"
     ]
    }
   ],
   "source": [
    "print(\"   *\")\n",
    "print(\"  ***\")\n",
    "print(\" *****\")\n",
    "print(\"*******\")\n",
    "print(\" *****\")\n",
    "print(\"  ***\")\n",
    "print(\"   *\")"
   ]
  },
  {
   "cell_type": "code",
   "execution_count": 51,
   "metadata": {},
   "outputs": [
    {
     "name": "stdout",
     "output_type": "stream",
     "text": [
      "123456\n",
      "234561\n",
      "345612\n",
      "456123\n",
      "561234\n",
      "612345\n"
     ]
    }
   ],
   "source": [
    "for i in range(1,7):\n",
    "    for j in range(i,7):\n",
    "        print(j,end=\"\")\n",
    "    for k in range(1,i):\n",
    "        print(k,end=\"\")\n",
    "    print()"
   ]
  },
  {
   "cell_type": "code",
   "execution_count": 53,
   "metadata": {},
   "outputs": [
    {
     "name": "stdout",
     "output_type": "stream",
     "text": [
      "Charles\n",
      "Martina\n",
      "Michael\n",
      "Florence\n"
     ]
    }
   ],
   "source": [
    "players = ['charles','martina','michael','florence','eli']\n",
    "for i in players[:4]:\n",
    "    print(i.title())"
   ]
  }
 ],
 "metadata": {
  "kernelspec": {
   "display_name": "Python 3",
   "language": "python",
   "name": "python3"
  },
  "language_info": {
   "codemirror_mode": {
    "name": "ipython",
    "version": 3
   },
   "file_extension": ".py",
   "mimetype": "text/x-python",
   "name": "python",
   "nbconvert_exporter": "python",
   "pygments_lexer": "ipython3",
   "version": "3.6.5"
  }
 },
 "nbformat": 4,
 "nbformat_minor": 2
}
